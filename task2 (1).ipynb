{
 "cells": [
  {
   "cell_type": "code",
   "execution_count": 6,
   "metadata": {
    "id": "RD3g3CLwsT1C"
   },
   "outputs": [],
   "source": [
    "import tensorflow as tf\n",
    "\n",
    "from keras.datasets import cifar10\n",
    "from keras.models import Sequential\n",
    "from keras.layers import Conv2D, MaxPooling2D, Flatten, Dense, Dropout\n",
    "import numpy as np\n",
    "import pandas as pd"
   ]
  },
  {
   "cell_type": "code",
   "execution_count": 7,
   "metadata": {
    "id": "pTot58QYso6D"
   },
   "outputs": [
    {
     "name": "stdout",
     "output_type": "stream",
     "text": [
      "Downloading data from https://www.cs.toronto.edu/~kriz/cifar-10-python.tar.gz\n",
      "170498071/170498071 [==============================] - 19s 0us/step\n"
     ]
    }
   ],
   "source": [
    "(x_train, y_train), (x_test, y_test) = cifar10.load_data()\n",
    "\n",
    "x_train = x_train.astype('float32') / 255.0\n",
    "x_test = x_test.astype('float32') / 255.0\n",
    "\n",
    "y_train = tf.keras.utils.to_categorical(y_train, num_classes=10)\n",
    "y_test = tf.keras.utils.to_categorical(y_test, num_classes=10)\n"
   ]
  },
  {
   "cell_type": "code",
   "execution_count": 8,
   "metadata": {
    "id": "im1axUyZuVNT"
   },
   "outputs": [],
   "source": [
    "split_ratio = 0.8\n",
    "split_index = int(len(x_train) * split_ratio)\n",
    "\n",
    "x_train_split = x_train[:split_index]\n",
    "y_train_split = y_train[:split_index]\n",
    "\n",
    "x_val = x_train[split_index:]\n",
    "y_val = y_train[split_index:]"
   ]
  },
  {
   "cell_type": "code",
   "execution_count": 9,
   "metadata": {
    "id": "GRZXafIHvhUS"
   },
   "outputs": [
    {
     "name": "stdout",
     "output_type": "stream",
     "text": [
      "Downloading data from https://storage.googleapis.com/tensorflow/keras-applications/vgg16/vgg16_weights_tf_dim_ordering_tf_kernels_notop.h5\n",
      "58889256/58889256 [==============================] - 5s 0us/step\n"
     ]
    }
   ],
   "source": [
    "from keras.applications import VGG16\n",
    "base_model = VGG16(weights='imagenet', include_top=False, input_shape=(32, 32, 3))"
   ]
  },
  {
   "cell_type": "code",
   "execution_count": 10,
   "metadata": {
    "id": "LnpKD9YSv5H8"
   },
   "outputs": [],
   "source": [
    "for layer in base_model.layers:\n",
    "    layer.trainable = False"
   ]
  },
  {
   "cell_type": "code",
   "execution_count": 11,
   "metadata": {
    "id": "NnoW9jp6wDXa"
   },
   "outputs": [],
   "source": [
    "model = Sequential()\n",
    "model.add(base_model)\n",
    "model.add(Flatten())\n",
    "model.add(Dense(256, activation='relu'))\n",
    "model.add(Dropout(0.5))\n",
    "model.add(Dense(10, activation='softmax'))"
   ]
  },
  {
   "cell_type": "code",
   "execution_count": 12,
   "metadata": {
    "id": "BiVoGXiXwq5n"
   },
   "outputs": [
    {
     "name": "stderr",
     "output_type": "stream",
     "text": [
      "WARNING:absl:`lr` is deprecated in Keras optimizer, please use `learning_rate` or use the legacy optimizer, e.g.,tf.keras.optimizers.legacy.Adam.\n"
     ]
    }
   ],
   "source": [
    "from keras.optimizers import Adam\n",
    "model.compile(optimizer=Adam(lr=0.001), loss='categorical_crossentropy', metrics=['accuracy'])"
   ]
  },
  {
   "cell_type": "code",
   "execution_count": 13,
   "metadata": {
    "colab": {
     "base_uri": "https://localhost:8080/"
    },
    "id": "JW_8nODUTzHO",
    "outputId": "f8626127-706c-4db8-b2de-ea82845b6433"
   },
   "outputs": [
    {
     "name": "stdout",
     "output_type": "stream",
     "text": [
      "Epoch 1/10\n",
      "313/313 [==============================] - 476s 2s/step - loss: 1.6187 - accuracy: 0.4327 - val_loss: 1.3363 - val_accuracy: 0.5352\n",
      "Epoch 2/10\n",
      "313/313 [==============================] - 475s 2s/step - loss: 1.3500 - accuracy: 0.5265 - val_loss: 1.2467 - val_accuracy: 0.5615\n",
      "Epoch 3/10\n",
      "313/313 [==============================] - 479s 2s/step - loss: 1.2809 - accuracy: 0.5539 - val_loss: 1.2093 - val_accuracy: 0.5797\n",
      "Epoch 4/10\n",
      "313/313 [==============================] - 1011s 3s/step - loss: 1.2356 - accuracy: 0.5666 - val_loss: 1.1821 - val_accuracy: 0.5834\n",
      "Epoch 5/10\n",
      "313/313 [==============================] - 464s 1s/step - loss: 1.1996 - accuracy: 0.5804 - val_loss: 1.1686 - val_accuracy: 0.5935\n",
      "Epoch 6/10\n",
      "313/313 [==============================] - 5493s 18s/step - loss: 1.1856 - accuracy: 0.5842 - val_loss: 1.1504 - val_accuracy: 0.5966\n",
      "Epoch 7/10\n",
      "313/313 [==============================] - 470s 2s/step - loss: 1.1645 - accuracy: 0.5948 - val_loss: 1.1428 - val_accuracy: 0.6028\n",
      "Epoch 8/10\n",
      "313/313 [==============================] - 891s 3s/step - loss: 1.1456 - accuracy: 0.6020 - val_loss: 1.1330 - val_accuracy: 0.6061\n",
      "Epoch 9/10\n",
      "313/313 [==============================] - 3057s 10s/step - loss: 1.1285 - accuracy: 0.6069 - val_loss: 1.1241 - val_accuracy: 0.6062\n",
      "Epoch 10/10\n",
      "313/313 [==============================] - 474s 2s/step - loss: 1.1137 - accuracy: 0.6087 - val_loss: 1.1243 - val_accuracy: 0.6093\n"
     ]
    }
   ],
   "source": [
    "batch_size = 128\n",
    "epochs = 10\n",
    "history=model.fit(x_train, y_train, batch_size=batch_size, epochs=epochs, validation_split=0.2)"
   ]
  },
  {
   "cell_type": "code",
   "execution_count": 14,
   "metadata": {
    "colab": {
     "base_uri": "https://localhost:8080/"
    },
    "id": "Qit6V_1woXPi",
    "outputId": "d33131ef-3e38-48bd-93c7-565af5278bd3"
   },
   "outputs": [
    {
     "name": "stdout",
     "output_type": "stream",
     "text": [
      "313/313 [==============================] - 45680s 146s/step - loss: 1.1371 - accuracy: 0.5987\n",
      "Test Loss: 1.1371\n",
      "Test Accuracy: 59.87%\n"
     ]
    }
   ],
   "source": [
    "loss, accuracy = model.evaluate(x_test, y_test)\n",
    "print(f\"Test Loss: {loss:.4f}\")\n",
    "print(f\"Test Accuracy: {accuracy*100:.2f}%\")"
   ]
  },
  {
   "cell_type": "code",
   "execution_count": 16,
   "metadata": {
    "id": "bqNiUow6UTYl"
   },
   "outputs": [
    {
     "data": {
      "image/png": "[encoded data removed]",
      "text/plain": [
       "<Figure size 640x480 with 1 Axes>"
      ]
     },
     "metadata": {},
     "output_type": "display_data"
    }
   ],
   "source": [
    "import matplotlib.pyplot as plt\n",
    "\n",
    "plt.plot(history.history['accuracy'])\n",
    "plt.plot(history.history['val_accuracy'])\n",
    "plt.title('Model Accuracy')\n",
    "plt.xlabel('Epoch')\n",
    "plt.ylabel('Accuracy')\n",
    "plt.legend(['Train', 'Validation'], loc='upper left')\n",
    "plt.show()"
   ]
  },
  {
   "cell_type": "code",
   "execution_count": 17,
   "metadata": {},
   "outputs": [
    {
     "name": "stdout",
     "output_type": "stream",
     "text": [
      "Epoch 1/10\n",
      "313/313 [==============================] - 89s 279ms/step - loss: 1.6689 - accuracy: 0.3952 - val_loss: 1.2782 - val_accuracy: 0.5505\n",
      "Epoch 2/10\n",
      "313/313 [==============================] - 90s 287ms/step - loss: 1.3135 - accuracy: 0.5352 - val_loss: 1.1309 - val_accuracy: 0.6085\n",
      "Epoch 3/10\n",
      "313/313 [==============================] - 87s 279ms/step - loss: 1.1842 - accuracy: 0.5827 - val_loss: 1.0593 - val_accuracy: 0.6339\n",
      "Epoch 4/10\n",
      "313/313 [==============================] - 87s 279ms/step - loss: 1.1127 - accuracy: 0.6094 - val_loss: 0.9844 - val_accuracy: 0.6584\n",
      "Epoch 5/10\n",
      "313/313 [==============================] - 93s 296ms/step - loss: 1.0425 - accuracy: 0.6327 - val_loss: 0.9633 - val_accuracy: 0.6646\n",
      "Epoch 6/10\n",
      "313/313 [==============================] - 99s 317ms/step - loss: 0.9913 - accuracy: 0.6491 - val_loss: 0.9412 - val_accuracy: 0.6701\n",
      "Epoch 7/10\n",
      "313/313 [==============================] - 88s 280ms/step - loss: 0.9436 - accuracy: 0.6677 - val_loss: 0.9145 - val_accuracy: 0.6776\n",
      "Epoch 8/10\n",
      "313/313 [==============================] - 87s 278ms/step - loss: 0.9037 - accuracy: 0.6785 - val_loss: 0.9050 - val_accuracy: 0.6819\n",
      "Epoch 9/10\n",
      "313/313 [==============================] - 87s 278ms/step - loss: 0.8586 - accuracy: 0.6947 - val_loss: 0.8943 - val_accuracy: 0.6859\n",
      "Epoch 10/10\n",
      "313/313 [==============================] - 87s 277ms/step - loss: 0.8332 - accuracy: 0.6992 - val_loss: 0.9017 - val_accuracy: 0.6862\n"
     ]
    },
    {
     "data": {
      "text/plain": [
       "<keras.src.callbacks.History at 0x1963ebf17e0>"
      ]
     },
     "execution_count": 17,
     "metadata": {},
     "output_type": "execute_result"
    }
   ],
   "source": [
    "cnn_model = Sequential()\n",
    "cnn_model.add(Conv2D(32, (3, 3), activation='relu', input_shape=(32, 32, 3)))\n",
    "cnn_model.add(Conv2D(64, (3, 3), activation='relu'))\n",
    "cnn_model.add(MaxPooling2D(pool_size=(2, 2)))\n",
    "cnn_model.add(Dropout(0.25))\n",
    "cnn_model.add(Flatten())\n",
    "cnn_model.add(Dense(128, activation='relu'))\n",
    "cnn_model.add(Dropout(0.5))\n",
    "cnn_model.add(Dense(10, activation='softmax'))\n",
    "cnn_model.compile(optimizer='adam', loss='categorical_crossentropy', metrics=['accuracy'])\n",
    "cnn_model.fit(x_train, y_train, batch_size=128, epochs=10, validation_split=0.2)"
   ]
  },
  {
   "cell_type": "code",
   "execution_count": 18,
   "metadata": {},
   "outputs": [
    {
     "name": "stdout",
     "output_type": "stream",
     "text": [
      "313/313 [==============================] - 5s 17ms/step - loss: 0.9108 - accuracy: 0.6837\n",
      "CNN Model - Test Loss: 0.9108\n",
      "CNN Model - Test Accuracy: 68.37%\n"
     ]
    }
   ],
   "source": [
    "cnn_loss, cnn_accuracy = cnn_model.evaluate(x_test, y_test)\n",
    "print(f\"CNN Model - Test Loss: {cnn_loss:.4f}\")\n",
    "print(f\"CNN Model - Test Accuracy: {cnn_accuracy*100:.2f}%\")"
   ]
  },
  {
   "cell_type": "code",
   "execution_count": 19,
   "metadata": {},
   "outputs": [],
   "source": [
    "base_model = VGG16(weights='imagenet', include_top=False, input_shape=(32, 32, 3))\n",
    "for layer in base_model.layers:\n",
    "    layer.trainable = False"
   ]
  },
  {
   "cell_type": "code",
   "execution_count": 21,
   "metadata": {},
   "outputs": [
    {
     "name": "stderr",
     "output_type": "stream",
     "text": [
      "WARNING:absl:`lr` is deprecated in Keras optimizer, please use `learning_rate` or use the legacy optimizer, e.g.,tf.keras.optimizers.legacy.Adam.\n"
     ]
    },
    {
     "name": "stdout",
     "output_type": "stream",
     "text": [
      "Epoch 1/10\n",
      "313/313 [==============================] - 336s 1s/step - loss: 1.6092 - accuracy: 0.4349 - val_loss: 1.3342 - val_accuracy: 0.5379\n",
      "Epoch 2/10\n",
      "313/313 [==============================] - 309s 987ms/step - loss: 1.3538 - accuracy: 0.5298 - val_loss: 1.2530 - val_accuracy: 0.5639\n",
      "Epoch 3/10\n",
      "313/313 [==============================] - 268s 858ms/step - loss: 1.2839 - accuracy: 0.5502 - val_loss: 1.2126 - val_accuracy: 0.5732\n",
      "Epoch 4/10\n",
      "313/313 [==============================] - 307s 981ms/step - loss: 1.2404 - accuracy: 0.5671 - val_loss: 1.1816 - val_accuracy: 0.5864\n",
      "Epoch 5/10\n",
      "313/313 [==============================] - 269s 858ms/step - loss: 1.2087 - accuracy: 0.5807 - val_loss: 1.1608 - val_accuracy: 0.5924\n",
      "Epoch 6/10\n",
      "313/313 [==============================] - 270s 864ms/step - loss: 1.1832 - accuracy: 0.5871 - val_loss: 1.1559 - val_accuracy: 0.5942\n",
      "Epoch 7/10\n",
      "313/313 [==============================] - 268s 856ms/step - loss: 1.1593 - accuracy: 0.5929 - val_loss: 1.1460 - val_accuracy: 0.5979\n",
      "Epoch 8/10\n",
      "313/313 [==============================] - 2217s 7s/step - loss: 1.1457 - accuracy: 0.6011 - val_loss: 1.1434 - val_accuracy: 0.6007\n",
      "Epoch 9/10\n",
      "313/313 [==============================] - 419s 1s/step - loss: 1.1256 - accuracy: 0.6069 - val_loss: 1.1276 - val_accuracy: 0.6059\n",
      "Epoch 10/10\n",
      "313/313 [==============================] - 465s 1s/step - loss: 1.1138 - accuracy: 0.6115 - val_loss: 1.1248 - val_accuracy: 0.6080\n"
     ]
    },
    {
     "data": {
      "text/plain": [
       "<keras.src.callbacks.History at 0x1964a5f25f0>"
      ]
     },
     "execution_count": 21,
     "metadata": {},
     "output_type": "execute_result"
    }
   ],
   "source": [
    "transfer_model = Sequential()\n",
    "transfer_model.add(base_model)\n",
    "transfer_model.add(Flatten())\n",
    "transfer_model.add(Dense(256, activation='relu'))\n",
    "transfer_model.add(Dropout(0.5))\n",
    "transfer_model.add(Dense(10, activation='softmax'))\n",
    "transfer_model.compile(optimizer=Adam(lr=0.001), loss='categorical_crossentropy', metrics=['accuracy'])\n",
    "transfer_model.fit(x_train, y_train, batch_size=128, epochs=10, validation_split=0.2)"
   ]
  },
  {
   "cell_type": "code",
   "execution_count": 22,
   "metadata": {},
   "outputs": [
    {
     "name": "stdout",
     "output_type": "stream",
     "text": [
      "313/313 [==============================] - 102s 325ms/step - loss: 1.1318 - accuracy: 0.6030\n",
      "Transfer Learning Model - Test Loss: 1.1318\n",
      "Transfer Learning Model - Test Accuracy: 60.30%\n"
     ]
    }
   ],
   "source": [
    "transfer_loss, transfer_accuracy = transfer_model.evaluate(x_test, y_test)\n",
    "print(f\"Transfer Learning Model - Test Loss: {transfer_loss:.4f}\")\n",
    "print(f\"Transfer Learning Model - Test Accuracy: {transfer_accuracy*100:.2f}%\")"
   ]
  },
  {
   "cell_type": "code",
   "execution_count": 24,
   "metadata": {},
   "outputs": [
    {
     "name": "stdout",
     "output_type": "stream",
     "text": [
      "313/313 [==============================] - 103s 328ms/step\n"
     ]
    }
   ],
   "source": [
    "transfer_predictions = transfer_model.predict(x_test)\n",
    "transfer_labels = np.argmax(y_test, axis=1)\n",
    "transfer_predictions = np.argmax(transfer_predictions, axis=1)"
   ]
  },
  {
   "cell_type": "code",
   "execution_count": 27,
   "metadata": {},
   "outputs": [
    {
     "name": "stderr",
     "output_type": "stream",
     "text": [
      "WARNING: Ignoring invalid distribution -ip (c:\\users\\deepi\\appdata\\local\\programs\\python\\python310\\lib\\site-packages)\n",
      "WARNING: Package(s) not found: scikit-learn\n"
     ]
    }
   ],
   "source": [
    "!pip show scikit-learn\n"
   ]
  },
  {
   "cell_type": "code",
   "execution_count": 28,
   "metadata": {},
   "outputs": [
    {
     "name": "stdout",
     "output_type": "stream",
     "text": [
      "Collecting scikit-learn\n",
      "  Downloading scikit_learn-1.3.0-cp310-cp310-win_amd64.whl (9.2 MB)\n",
      "     ---------------------------------------- 9.2/9.2 MB 6.6 MB/s eta 0:00:00\n",
      "Requirement already satisfied: numpy>=1.17.3 in c:\\users\\deepi\\appdata\\local\\programs\\python\\python310\\lib\\site-packages (from scikit-learn) (1.23.5)\n",
      "Collecting joblib>=1.1.1\n",
      "  Downloading joblib-1.3.1-py3-none-any.whl (301 kB)\n",
      "     -------------------------------------- 302.0/302.0 kB 4.7 MB/s eta 0:00:00\n",
      "Collecting scipy>=1.5.0\n",
      "  Downloading scipy-1.11.1-cp310-cp310-win_amd64.whl (44.0 MB)\n",
      "     ---------------------------------------- 44.0/44.0 MB 5.1 MB/s eta 0:00:00\n",
      "Collecting threadpoolctl>=2.0.0\n",
      "  Downloading threadpoolctl-3.2.0-py3-none-any.whl (15 kB)\n",
      "Installing collected packages: threadpoolctl, scipy, joblib, scikit-learn\n",
      "Successfully installed joblib-1.3.1 scikit-learn-1.3.0 scipy-1.11.1 threadpoolctl-3.2.0\n"
     ]
    },
    {
     "name": "stderr",
     "output_type": "stream",
     "text": [
      "WARNING: Ignoring invalid distribution -ip (c:\\users\\deepi\\appdata\\local\\programs\\python\\python310\\lib\\site-packages)\n",
      "WARNING: Ignoring invalid distribution -ip (c:\\users\\deepi\\appdata\\local\\programs\\python\\python310\\lib\\site-packages)\n",
      "WARNING: Ignoring invalid distribution -ip (c:\\users\\deepi\\appdata\\local\\programs\\python\\python310\\lib\\site-packages)\n",
      "WARNING: Ignoring invalid distribution -ip (c:\\users\\deepi\\appdata\\local\\programs\\python\\python310\\lib\\site-packages)\n",
      "WARNING: Ignoring invalid distribution -ip (c:\\users\\deepi\\appdata\\local\\programs\\python\\python310\\lib\\site-packages)\n",
      "WARNING: Ignoring invalid distribution -ip (c:\\users\\deepi\\appdata\\local\\programs\\python\\python310\\lib\\site-packages)\n",
      "WARNING: Ignoring invalid distribution -ip (c:\\users\\deepi\\appdata\\local\\programs\\python\\python310\\lib\\site-packages)\n",
      "WARNING: Ignoring invalid distribution -ip (c:\\users\\deepi\\appdata\\local\\programs\\python\\python310\\lib\\site-packages)\n",
      "WARNING: Ignoring invalid distribution -ip (c:\\users\\deepi\\appdata\\local\\programs\\python\\python310\\lib\\site-packages)\n",
      "WARNING: Ignoring invalid distribution -ip (c:\\users\\deepi\\appdata\\local\\programs\\python\\python310\\lib\\site-packages)\n"
     ]
    }
   ],
   "source": [
    "!pip install scikit-learn"
   ]
  },
  {
   "cell_type": "code",
   "execution_count": 30,
   "metadata": {},
   "outputs": [],
   "source": [
    "import sklearn"
   ]
  },
  {
   "cell_type": "code",
   "execution_count": 31,
   "metadata": {},
   "outputs": [],
   "source": [
    "from sklearn import metrics"
   ]
  },
  {
   "cell_type": "code",
   "execution_count": 32,
   "metadata": {},
   "outputs": [],
   "source": [
    "from sklearn.metrics import classification_report, confusion_matrix\n",
    "transfer_report = classification_report(transfer_labels, transfer_predictions)\n",
    "transfer_confusion = confusion_matrix(transfer_labels, transfer_predictions)"
   ]
  },
  {
   "cell_type": "code",
   "execution_count": 33,
   "metadata": {},
   "outputs": [
    {
     "name": "stdout",
     "output_type": "stream",
     "text": [
      "Transfer Learning Model Evaluation Metrics:\n",
      "              precision    recall  f1-score   support\n",
      "\n",
      "           0       0.68      0.68      0.68      1000\n",
      "           1       0.60      0.75      0.66      1000\n",
      "           2       0.52      0.50      0.51      1000\n",
      "           3       0.47      0.41      0.43      1000\n",
      "           4       0.60      0.48      0.54      1000\n",
      "           5       0.51      0.55      0.53      1000\n",
      "           6       0.63      0.67      0.65      1000\n",
      "           7       0.66      0.66      0.66      1000\n",
      "           8       0.74      0.69      0.72      1000\n",
      "           9       0.62      0.63      0.62      1000\n",
      "\n",
      "    accuracy                           0.60     10000\n",
      "   macro avg       0.60      0.60      0.60     10000\n",
      "weighted avg       0.60      0.60      0.60     10000\n",
      "\n",
      "Transfer Learning Model Confusion Matrix:\n",
      "[[684  46  66  14   7  18   8  24  96  37]\n",
      " [ 28 747  11  29   8  22  16  18  22  99]\n",
      " [ 75  30 503  55  91  84  87  48  13  14]\n",
      " [ 20  57  74 407  38 169 115  41  17  62]\n",
      " [ 28  23 107  62 485  49 107  87  31  21]\n",
      " [ 10  26  58 165  49 550  36  66   7  33]\n",
      " [  5  40  66  64  52  65 673  10   8  17]\n",
      " [ 23  24  50  41  54  81  11 659  10  47]\n",
      " [ 90  88  18  13  15   7   8   9 694  58]\n",
      " [ 40 168  12  22  11  28  15  33  43 628]]\n"
     ]
    }
   ],
   "source": [
    "print(\"Transfer Learning Model Evaluation Metrics:\")\n",
    "print(transfer_report)\n",
    "print(\"Transfer Learning Model Confusion Matrix:\")\n",
    "print(transfer_confusion)"
   ]
  },
  {
   "cell_type": "code",
   "execution_count": 35,
   "metadata": {},
   "outputs": [
    {
     "name": "stdout",
     "output_type": "stream",
     "text": [
      "313/313 [==============================] - 10s 32ms/step\n"
     ]
    }
   ],
   "source": [
    "cnn_predictions = cnn_model.predict(x_test)\n",
    "cnn_labels = np.argmax(y_test, axis=1)\n",
    "cnn_predictions = np.argmax(cnn_predictions, axis=1)"
   ]
  },
  {
   "cell_type": "code",
   "execution_count": 36,
   "metadata": {},
   "outputs": [],
   "source": [
    "cnn_report = classification_report(cnn_labels, cnn_predictions)\n",
    "cnn_confusion = confusion_matrix(cnn_labels, cnn_predictions)\n"
   ]
  },
  {
   "cell_type": "code",
   "execution_count": 37,
   "metadata": {},
   "outputs": [
    {
     "name": "stdout",
     "output_type": "stream",
     "text": [
      "CNN Model Evaluation Metrics:\n",
      "              precision    recall  f1-score   support\n",
      "\n",
      "           0       0.76      0.70      0.73      1000\n",
      "           1       0.79      0.80      0.79      1000\n",
      "           2       0.56      0.56      0.56      1000\n",
      "           3       0.53      0.46      0.49      1000\n",
      "           4       0.66      0.59      0.62      1000\n",
      "           5       0.59      0.60      0.60      1000\n",
      "           6       0.71      0.80      0.75      1000\n",
      "           7       0.63      0.81      0.71      1000\n",
      "           8       0.86      0.74      0.80      1000\n",
      "           9       0.77      0.77      0.77      1000\n",
      "\n",
      "    accuracy                           0.68     10000\n",
      "   macro avg       0.69      0.68      0.68     10000\n",
      "weighted avg       0.69      0.68      0.68     10000\n",
      "\n",
      "CNN Model Confusion Matrix:\n",
      "[[697  26  66  32  23   4  17  23  62  50]\n",
      " [ 18 802  10  11   7   9  14   9  12 108]\n",
      " [ 56   9 563  49  76  89  78  63   8   9]\n",
      " [ 20   8  84 458  62 191  87  70   7  13]\n",
      " [ 20   4  75  61 587  30  74 139   9   1]\n",
      " [  5   3  74 142  43 603  37  87   2   4]\n",
      " [  3   4  64  55  29  23 804  16   0   2]\n",
      " [  4   3  47  20  48  55   2 815   0   6]\n",
      " [ 72  61  19  22   5  11  15  14 738  43]\n",
      " [ 22  98   5  16   5   9  10  49  16 770]]\n"
     ]
    }
   ],
   "source": [
    "print(\"CNN Model Evaluation Metrics:\")\n",
    "print(cnn_report)\n",
    "print(\"CNN Model Confusion Matrix:\")\n",
    "print(cnn_confusion)"
   ]
  },
  {
   "cell_type": "code",
   "execution_count": 38,
   "metadata": {},
   "outputs": [
    {
     "data": {
      "image/png": "[encoded data removed]",
      "text/plain": [
       "<Figure size 800x600 with 2 Axes>"
      ]
     },
     "metadata": {},
     "output_type": "display_data"
    }
   ],
   "source": [
    "plt.figure(figsize=(8, 6))\n",
    "plt.imshow(cnn_confusion, cmap=plt.cm.Blues)\n",
    "plt.title('CNN Model Confusion Matrix')\n",
    "plt.colorbar()\n",
    "plt.xlabel('Predicted Label')\n",
    "plt.ylabel('True Label')\n",
    "plt.xticks(np.arange(10))\n",
    "plt.yticks(np.arange(10))\n",
    "plt.show()"
   ]
  },
  {
   "cell_type": "code",
   "execution_count": 39,
   "metadata": {},
   "outputs": [
    {
     "data": {
      "image/png": "[encoded data removed]",
      "text/plain": [
       "<Figure size 800x600 with 2 Axes>"
      ]
     },
     "metadata": {},
     "output_type": "display_data"
    }
   ],
   "source": [
    "plt.figure(figsize=(8, 6))\n",
    "plt.imshow(transfer_confusion, cmap=plt.cm.Blues)\n",
    "plt.title('Transfer Learning Model Confusion Matrix')\n",
    "plt.colorbar()\n",
    "plt.xlabel('Predicted Label')\n",
    "plt.ylabel('True Label')\n",
    "plt.xticks(np.arange(10))\n",
    "plt.yticks(np.arange(10))\n",
    "plt.show()"
   ]
  },
  {
   "cell_type": "code",
   "execution_count": 40,
   "metadata": {},
   "outputs": [],
   "source": [
    "metrics_table = pd.DataFrame({\n",
    "    'Model': ['CNN Model', 'Transfer Learning Model'],\n",
    "    'Test Loss': [cnn_loss, transfer_loss],\n",
    "    'Test Accuracy': [cnn_accuracy, transfer_accuracy]\n",
    "})"
   ]
  },
  {
   "cell_type": "code",
   "execution_count": 41,
   "metadata": {},
   "outputs": [
    {
     "name": "stdout",
     "output_type": "stream",
     "text": [
      "Evaluation Metrics:\n",
      "                     Model  Test Loss  Test Accuracy\n",
      "0                CNN Model   0.910843         0.6837\n",
      "1  Transfer Learning Model   1.131777         0.6030\n"
     ]
    }
   ],
   "source": [
    "print(\"Evaluation Metrics:\")\n",
    "print(metrics_table)"
   ]
  },
  {
   "cell_type": "code",
   "execution_count": 43,
   "metadata": {},
   "outputs": [
    {
     "name": "stdout",
     "output_type": "stream",
     "text": [
      "1563/1563 [==============================] - 44s 28ms/step - loss: 0.6295 - accuracy: 0.7902\n",
      "CNN Model - Training Loss: 0.6295\n",
      "CNN Model - Training Accuracy: 79.02%\n"
     ]
    }
   ],
   "source": [
    "cnn_train_loss, cnn_train_acc = cnn_model.evaluate(x_train, y_train)\n",
    "print(f\"CNN Model - Training Loss: {cnn_train_loss:.4f}\")\n",
    "print(f\"CNN Model - Training Accuracy: {cnn_train_acc*100:.2f}%\")"
   ]
  },
  {
   "cell_type": "code",
   "execution_count": 45,
   "metadata": {},
   "outputs": [
    {
     "name": "stdout",
     "output_type": "stream",
     "text": [
      "1563/1563 [==============================] - 456s 290ms/step - loss: 1.0261 - accuracy: 0.6447\n",
      "Transfer Learning Model - Training Loss: 1.0261\n",
      "Transfer Learning Model - Training Accuracy: 64.47%\n"
     ]
    }
   ],
   "source": [
    "transfer_train_loss, transfer_train_acc = transfer_model.evaluate(x_train, y_train)\n",
    "print(f\"Transfer Learning Model - Training Loss: {transfer_train_loss:.4f}\")\n",
    "print(f\"Transfer Learning Model - Training Accuracy: {transfer_train_acc*100:.2f}%\")"
   ]
  },
  {
   "cell_type": "code",
   "execution_count": 48,
   "metadata": {},
   "outputs": [
    {
     "name": "stdout",
     "output_type": "stream",
     "text": [
      "Model Performance on Training and Testing Sets:\n",
      "                     Model  Training Accuracy  Test Accuracy\n",
      "0                CNN Model            0.79020         0.6837\n",
      "1  Transfer Learning Model            0.64468         0.6030\n"
     ]
    }
   ],
   "source": [
    "performance_table = pd.DataFrame({\n",
    "    'Model': ['CNN Model', 'Transfer Learning Model'],\n",
    "    'Training Accuracy': [cnn_train_acc, transfer_train_acc],\n",
    "    'Test Accuracy': [cnn_accuracy, transfer_accuracy]\n",
    "})\n",
    "\n",
    "print(\"Model Performance on Training and Testing Sets:\")\n",
    "print(performance_table)"
   ]
  },
  {
   "cell_type": "code",
   "execution_count": null,
   "metadata": {},
   "outputs": [],
   "source": []
  }
 ],
 "metadata": {
  "colab": {
   "provenance": []
  },
  "kernelspec": {
   "display_name": "Python 3 (ipykernel)",
   "language": "python",
   "name": "python3"
  },
  "language_info": {
   "codemirror_mode": {
    "name": "ipython",
    "version": 3
   },
   "file_extension": ".py",
   "mimetype": "text/x-python",
   "name": "python",
   "nbconvert_exporter": "python",
   "pygments_lexer": "ipython3",
   "version": "3.10.4"
  }
 },
 "nbformat": 4,
 "nbformat_minor": 1
}
